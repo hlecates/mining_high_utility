{
 "cells": [
  {
   "cell_type": "code",
   "execution_count": 227,
   "id": "dd8e4ace-644c-49fb-96d0-ed0bcb8831a3",
   "metadata": {},
   "outputs": [
    {
     "ename": "FileNotFoundError",
     "evalue": "[Errno 2] No such file or directory: 'Chicago_Crimes_2001_to_2017_utility.txt'",
     "output_type": "error",
     "traceback": [
      "\u001b[0;31m---------------------------------------------------------------------------\u001b[0m",
      "\u001b[0;31mFileNotFoundError\u001b[0m                         Traceback (most recent call last)",
      "\u001b[0;32m/var/folders/ts/s31pjj7131j0b6y6v4mv28fc0000gn/T/ipykernel_49437/1963605777.py\u001b[0m in \u001b[0;36m<module>\u001b[0;34m\u001b[0m\n\u001b[1;32m      9\u001b[0m \u001b[0mTWU\u001b[0m \u001b[0;34m=\u001b[0m \u001b[0mdefaultdict\u001b[0m\u001b[0;34m(\u001b[0m\u001b[0mint\u001b[0m\u001b[0;34m)\u001b[0m\u001b[0;34m\u001b[0m\u001b[0;34m\u001b[0m\u001b[0m\n\u001b[1;32m     10\u001b[0m \u001b[0mrevised_trans\u001b[0m \u001b[0;34m=\u001b[0m \u001b[0;34m[\u001b[0m\u001b[0;34m]\u001b[0m\u001b[0;34m\u001b[0m\u001b[0;34m\u001b[0m\u001b[0m\n\u001b[0;32m---> 11\u001b[0;31m \u001b[0;32mwith\u001b[0m \u001b[0mopen\u001b[0m\u001b[0;34m(\u001b[0m\u001b[0;34m'Chicago_Crimes_2001_to_2017_utility.txt'\u001b[0m\u001b[0;34m,\u001b[0m \u001b[0;34m'r'\u001b[0m\u001b[0;34m)\u001b[0m \u001b[0;32mas\u001b[0m \u001b[0mfile\u001b[0m\u001b[0;34m:\u001b[0m\u001b[0;34m\u001b[0m\u001b[0;34m\u001b[0m\u001b[0m\n\u001b[0m\u001b[1;32m     12\u001b[0m     \u001b[0;32mfor\u001b[0m \u001b[0mline\u001b[0m \u001b[0;32min\u001b[0m \u001b[0mfile\u001b[0m\u001b[0;34m:\u001b[0m\u001b[0;34m\u001b[0m\u001b[0;34m\u001b[0m\u001b[0m\n\u001b[1;32m     13\u001b[0m         \u001b[0mtransactions\u001b[0m\u001b[0;34m.\u001b[0m\u001b[0mappend\u001b[0m\u001b[0;34m(\u001b[0m\u001b[0mline\u001b[0m\u001b[0;34m.\u001b[0m\u001b[0mstrip\u001b[0m\u001b[0;34m(\u001b[0m\u001b[0;34m)\u001b[0m\u001b[0;34m)\u001b[0m\u001b[0;34m\u001b[0m\u001b[0;34m\u001b[0m\u001b[0m\n",
      "\u001b[0;31mFileNotFoundError\u001b[0m: [Errno 2] No such file or directory: 'Chicago_Crimes_2001_to_2017_utility.txt'"
     ]
    }
   ],
   "source": [
    "from collections import defaultdict\n",
    "\n",
    "\n",
    "#initialize the variables needed and read in dataset\n",
    "transactions = []\n",
    "min_util = 1000000\n",
    "utility_lists = {}\n",
    "parsed_trans = []\n",
    "TWU = defaultdict(int)\n",
    "revised_trans = []\n",
    "with open('Chicago_Crimes_2001_to_2017_utility.txt', 'r') as file:\n",
    "    for line in file:\n",
    "        transactions.append(line.strip())"
   ]
  },
  {
   "cell_type": "code",
   "execution_count": 211,
   "id": "fea3dbed-e445-4b79-b6fe-6497f0da7f12",
   "metadata": {},
   "outputs": [],
   "source": [
    "#function to extract values from transaction and update item TWU values\n",
    "def parse(line, tid):\n",
    "    items, total_util, item_utils = line.split(':')\n",
    "    #store items, total_util, item_utils\n",
    "    items = list(map(int, items.strip().split()))\n",
    "    total_util = float(total_util.strip())\n",
    "    item_utils = list(map(float, item_utils.strip().split()))\n",
    "    #add the transaction to new list of transactions with transaction id\n",
    "    parsed_trans.append((tid, items, item_utils, total_util))\n",
    "    #for each item in the transaction, update the TWU value in dictionary\n",
    "    for item in items:\n",
    "        TWU[item] += total_util\n"
   ]
  },
  {
   "cell_type": "code",
   "execution_count": 213,
   "id": "b00029dc-b213-4d7f-80c7-fd3ea3de305d",
   "metadata": {},
   "outputs": [],
   "source": [
    "def revise():\n",
    "    kept = {item for item in TWU if TWU[item] >= min_util} #keep an item only if its TWU higher or equal to minutil\n",
    "    sorted_items = sorted(kept, key=lambda i: (TWU[i], i)) #sort them ascendingly by TWU\n",
    "    ordering = {item: idx for idx, item in enumerate(sorted_items)} #establish ordering to revise transactions\n",
    "\n",
    "    #iterate through parsed transactions to revise them\n",
    "    for tid, items, utils, tu in parsed_trans:\n",
    "        #only keep the items that pass the threshold and then sort them and store in new list of transactions\n",
    "        revised = [(item, util) for item, util in zip(items, utils) if item in kept]\n",
    "        revised.sort(key=lambda x: ordering[x[0]])\n",
    "        if revised:\n",
    "            revised_trans.append((tid, revised))"
   ]
  },
  {
   "cell_type": "code",
   "execution_count": 215,
   "id": "9e2a5b4f-af82-4618-bf18-c2945c2e8b44",
   "metadata": {},
   "outputs": [],
   "source": [
    "#utilitylistEntry class to store each entry in a UL\n",
    "class UtilityListEntry:\n",
    "    def __init__(self, tid, iu, ru):\n",
    "        self.tid = tid\n",
    "        self.iu = iu\n",
    "        self.ru = ru"
   ]
  },
  {
   "cell_type": "code",
   "execution_count": 217,
   "id": "ddb4ec4c-f9f4-402a-95ef-d861872863c1",
   "metadata": {},
   "outputs": [],
   "source": [
    "#build utility lists for all individual items\n",
    "def build_item_UL():\n",
    "    #iterate through the revised transactions\n",
    "    for tid, revised in revised_trans:\n",
    "        #extract items and their utils\n",
    "        items = [item for item,_ in revised]\n",
    "        utils = [util for _,util in revised]\n",
    "        for i in range(len(items)):\n",
    "            #find iutil and rutil\n",
    "            item = items[i]\n",
    "            iu = utils[i]\n",
    "            ru = sum(utils[i+1:])\n",
    "            #create utility list if needed\n",
    "            if item not in utility_lists:\n",
    "                utility_lists[item] = []\n",
    "            #append the entry\n",
    "            utility_lists[item].append(UtilityListEntry(tid, iu, ru))"
   ]
  },
  {
   "cell_type": "code",
   "execution_count": 219,
   "id": "f717feb5-9a4a-42aa-b4bd-3ebd4d7eeb3a",
   "metadata": {},
   "outputs": [],
   "source": [
    "#construct new set of ULs for deeper exploration\n",
    "def construct(prefix, x, y):\n",
    "    newUL = []\n",
    "    mapY = {e.tid: e for e in y}\n",
    "    mapP = {e.tid: e for e in prefix} if prefix else {}\n",
    "\n",
    "    #iterate through the entries in the UL of x\n",
    "    for Xentry in x:\n",
    "        Yentry = mapY.get(Xentry.tid)\n",
    "        #if there is a matched transaction\n",
    "        if Yentry:\n",
    "            #calculation if prefix exists\n",
    "            if prefix:\n",
    "                Pentry = mapP[Xentry.tid]\n",
    "                iu = Xentry.iu + Yentry.iu - Pentry.iu\n",
    "            #calculation if no prefix exists\n",
    "            else:\n",
    "                iu = Xentry.iu + Yentry.iu\n",
    "            #rutil comes from the later item (y)\n",
    "            ru = Yentry.ru\n",
    "            #add the new entry\n",
    "            newUL.append(UtilityListEntry(Xentry.tid, iu, ru))\n",
    "\n",
    "    return newUL\n",
    "    "
   ]
  },
  {
   "cell_type": "code",
   "execution_count": 221,
   "id": "02f2cfed-5a2f-4f14-ace8-94ade9257d61",
   "metadata": {},
   "outputs": [],
   "source": [
    "def huiMiner(prefix, ULs):\n",
    "    #iterate through the ULs passed in\n",
    "    for i in range(len(ULs)):\n",
    "        Xi, xUL = ULs[i]\n",
    "        newPrefix = prefix + (Xi,)\n",
    "        #find sumIU and sumTOT for evaluation of high utility\n",
    "        sumIU = sum(e.iu for e in xUL)\n",
    "        sumTOT = sum(e.ru + e.iu for e in xUL)\n",
    "\n",
    "        #if sumIU over minutil, it is high utility, output\n",
    "        if sumIU >= min_util:\n",
    "            print(f\"High Utility Itemset: {newPrefix}, Utility: {sumIU}\")\n",
    "        #if sumTOT over minutil, we should explore deeper\n",
    "        if sumTOT >= min_util:\n",
    "            extendedULs = []\n",
    "            #moving through the rest of the ULs against \"x\", find ULs for the extensions using construct function\n",
    "            for j in range(i+1, len(ULs)):\n",
    "                Yj, yUL = ULs[j]\n",
    "                newUL = construct(xUL, xUL, yUL)\n",
    "                if newUL:\n",
    "                    #add to list of ULs for deeper exploration\n",
    "                    extendedULs.append((Yj, newUL))\n",
    "            #recursive call to huiMiner() for further exploration down the tree\n",
    "            huiMiner(newPrefix, extendedULs)\n",
    "            \n",
    "    "
   ]
  },
  {
   "cell_type": "code",
   "execution_count": 223,
   "id": "e2e1cd14-9e26-46c6-a738-10c962840aa9",
   "metadata": {},
   "outputs": [],
   "source": [
    "#runs the algorithm\n",
    "def run():\n",
    "    #parse the transactions\n",
    "    for tid, line in enumerate(transactions):\n",
    "        parse(line, tid)\n",
    "    #revise them to run the recursion to find high utility itemsets\n",
    "    revise()\n",
    "    #find individual item ULs and sort them\n",
    "    build_item_UL()\n",
    "    ULs = sorted(utility_lists.items(), key=lambda x: TWU[x[0]])\n",
    "    #start recursive call on empty tuple and initial set of ULs\n",
    "    huiMiner(tuple(), ULs)"
   ]
  },
  {
   "cell_type": "code",
   "execution_count": 225,
   "id": "df7f18c4-1f34-4cfa-ae02-7b259bbadcae",
   "metadata": {},
   "outputs": [
    {
     "name": "stdout",
     "output_type": "stream",
     "text": [
      "running HUIMiner at min util of: \n",
      "1000000\n",
      "Time to run\n",
      "0.00010800361633300781\n"
     ]
    }
   ],
   "source": [
    "import time\n",
    "import os\n",
    "import matplotlib.pyplot as plt\n",
    "\n",
    "#example run that records time\n",
    "\n",
    "print(\"running HUIMiner at min util of: \")\n",
    "print(min_util)\n",
    "\n",
    "\n",
    "start = time.time()\n",
    "run()\n",
    "end = time.time()\n",
    "elapsed = end - start\n",
    "\n",
    "print(\"Time to run\")\n",
    "print(elapsed)\n",
    "    "
   ]
  },
  {
   "cell_type": "code",
   "execution_count": null,
   "id": "725478eb-4be1-453a-b7e0-b3062166f269",
   "metadata": {},
   "outputs": [],
   "source": []
  }
 ],
 "metadata": {
  "kernelspec": {
   "display_name": "Python [conda env:base] *",
   "language": "python",
   "name": "conda-base-py"
  },
  "language_info": {
   "codemirror_mode": {
    "name": "ipython",
    "version": 3
   },
   "file_extension": ".py",
   "mimetype": "text/x-python",
   "name": "python",
   "nbconvert_exporter": "python",
   "pygments_lexer": "ipython3",
   "version": "3.9.19"
  }
 },
 "nbformat": 4,
 "nbformat_minor": 5
}
