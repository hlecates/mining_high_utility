{
 "cells": [
  {
   "cell_type": "code",
   "execution_count": 15,
   "id": "841f4865",
   "metadata": {},
   "outputs": [],
   "source": [
    "from collections import defaultdict\n",
    "\n",
    "transactions = []\n",
    "min_util = 10\n",
    "parsed_trans = []\n",
    "TWU = defaultdict(int)\n",
    "all_candidates = set()\n",
    "with open('draft', 'r') as file:\n",
    "    for line in file:\n",
    "        transactions.append(line.strip())"
   ]
  },
  {
   "cell_type": "code",
   "execution_count": 16,
   "id": "91bc46a5",
   "metadata": {},
   "outputs": [],
   "source": [
    "def parse_twu(line, tid):\n",
    "    items, total_util, item_utils = line.split(':')\n",
    "    items = list(map(int, items.strip().split()))\n",
    "    total_util = float(total_util.strip())\n",
    "    item_utils = list(map(float, item_utils.strip().split()))\n",
    "    parsed_trans.append((tid, items, item_utils, total_util))\n",
    "    for item in items:\n",
    "        TWU[item] += total_util"
   ]
  },
  {
   "cell_type": "code",
   "execution_count": 17,
   "id": "64d15a08",
   "metadata": {},
   "outputs": [],
   "source": [
    "# frequent 1-itemsets that have TWU >= min_util\n",
    "def freq_one_itemset():\n",
    "    freqOneItemset = set()\n",
    "    for item in TWU:\n",
    "        if TWU[item] >= min_util:\n",
    "            freqOneItemset.add(item)\n",
    "    return freqOneItemset"
   ]
  },
  {
   "cell_type": "code",
   "execution_count": 18,
   "id": "81c741ce",
   "metadata": {},
   "outputs": [],
   "source": [
    "from itertools import combinations\n",
    "def generate_candidates_explicit(prev_freq_itemsets, k):\n",
    "    candidates = set()\n",
    "    all_items = set()\n",
    "    for itemset in prev_freq_itemsets:\n",
    "        if k == 2:\n",
    "            all_items.add(itemset)\n",
    "        else:\n",
    "            for item in itemset:\n",
    "                all_items.add(item)\n",
    "    # python combinations() method performs as such:\n",
    "    # combinations('ABCD', 2) = AB AC AD BC BD CD\n",
    "    possible_combinations = combinations(sorted(all_items), k)\n",
    "    \n",
    "    for combo in possible_combinations:\n",
    "        all_frequent_items = True\n",
    "        k_minus_1_subsets = combinations(combo, k-1)\n",
    "    \n",
    "        for subset in k_minus_1_subsets:\n",
    "            sorted_subset = tuple(sorted(subset))\n",
    "            for element in sorted_subset:\n",
    "                if element not in prev_freq_itemsets:\n",
    "                    all_frequent_items = False\n",
    "                    break   \n",
    "        if all_frequent_items == True:\n",
    "            candidates.add(tuple(sorted(combo)))\n",
    "    return candidates"
   ]
  },
  {
   "cell_type": "code",
   "execution_count": 38,
   "id": "bc9574e9",
   "metadata": {},
   "outputs": [],
   "source": [
    "def filter_by_twu(candidates, min_util):\n",
    "    candidate_twu = defaultdict(int)\n",
    "    freq_candidates = set()\n",
    "    for transaction in parsed_trans:\n",
    "        for candidate in candidates:\n",
    "            if all(candidate) in transaction[1]:\n",
    "                candidate_twu[candidate] += transaction[3]\n",
    "                print(\"hello\")\n",
    "                \n",
    "    for itemset, twu in candidate_twu.items():\n",
    "        if twu >= min_util:\n",
    "            freq_candidates.add(itemset)\n",
    "    return freq_candidates"
   ]
  },
  {
   "cell_type": "code",
   "execution_count": 39,
   "id": "948373e9",
   "metadata": {},
   "outputs": [],
   "source": [
    "def run():     \n",
    "    # PHASE ONE STARTED\n",
    "    for tid, line in enumerate(transactions):\n",
    "        parse_twu(line, tid)\n",
    "        \n",
    "    freq_itemsets = freq_one_itemset()\n",
    "    all_candidates.update(freq_itemsets)\n",
    "    \n",
    "    k = 2\n",
    "    \n",
    "    candidates = generate_candidates_explicit(freq_itemsets, k)\n",
    "    freq_itemsets = filter_by_twu(candidates, min_util)\n",
    "    all_candidates.update(freq_itemsets)\n",
    "    #k += 1\n",
    "    print(all_candidates)"
   ]
  },
  {
   "cell_type": "code",
   "execution_count": 40,
   "id": "f2c57467",
   "metadata": {},
   "outputs": [
    {
     "ename": "KeyboardInterrupt",
     "evalue": "",
     "output_type": "error",
     "traceback": [
      "\u001b[0;31m---------------------------------------------------------------------------\u001b[0m",
      "\u001b[0;31mKeyboardInterrupt\u001b[0m                         Traceback (most recent call last)",
      "Input \u001b[0;32mIn [40]\u001b[0m, in \u001b[0;36m<cell line: 1>\u001b[0;34m()\u001b[0m\n\u001b[0;32m----> 1\u001b[0m \u001b[43mrun\u001b[49m\u001b[43m(\u001b[49m\u001b[43m)\u001b[49m\n",
      "Input \u001b[0;32mIn [39]\u001b[0m, in \u001b[0;36mrun\u001b[0;34m()\u001b[0m\n\u001b[1;32m      9\u001b[0m k \u001b[38;5;241m=\u001b[39m \u001b[38;5;241m2\u001b[39m\n\u001b[1;32m     11\u001b[0m candidates \u001b[38;5;241m=\u001b[39m generate_candidates_explicit(freq_itemsets, k)\n\u001b[0;32m---> 12\u001b[0m freq_itemsets \u001b[38;5;241m=\u001b[39m \u001b[43mfilter_by_twu\u001b[49m\u001b[43m(\u001b[49m\u001b[43mcandidates\u001b[49m\u001b[43m,\u001b[49m\u001b[43m \u001b[49m\u001b[43mmin_util\u001b[49m\u001b[43m)\u001b[49m\n\u001b[1;32m     13\u001b[0m all_candidates\u001b[38;5;241m.\u001b[39mupdate(freq_itemsets)\n\u001b[1;32m     14\u001b[0m \u001b[38;5;66;03m#k += 1\u001b[39;00m\n",
      "Input \u001b[0;32mIn [38]\u001b[0m, in \u001b[0;36mfilter_by_twu\u001b[0;34m(candidates, min_util)\u001b[0m\n\u001b[1;32m      3\u001b[0m freq_candidates \u001b[38;5;241m=\u001b[39m \u001b[38;5;28mset\u001b[39m()\n\u001b[1;32m      4\u001b[0m \u001b[38;5;28;01mfor\u001b[39;00m transaction \u001b[38;5;129;01min\u001b[39;00m parsed_trans:\n\u001b[0;32m----> 5\u001b[0m     \u001b[38;5;28;01mfor\u001b[39;00m candidate \u001b[38;5;129;01min\u001b[39;00m candidates:\n\u001b[1;32m      6\u001b[0m         \u001b[38;5;28;01mif\u001b[39;00m \u001b[38;5;28mall\u001b[39m(candidate) \u001b[38;5;129;01min\u001b[39;00m transaction[\u001b[38;5;241m1\u001b[39m]:\n\u001b[1;32m      7\u001b[0m             candidate_twu[candidate] \u001b[38;5;241m+\u001b[39m\u001b[38;5;241m=\u001b[39m transaction[\u001b[38;5;241m3\u001b[39m]\n",
      "\u001b[0;31mKeyboardInterrupt\u001b[0m: "
     ]
    }
   ],
   "source": [
    "run()"
   ]
  },
  {
   "cell_type": "code",
   "execution_count": null,
   "id": "84e819b9",
   "metadata": {},
   "outputs": [],
   "source": [
    "print(all_candidates)"
   ]
  },
  {
   "cell_type": "code",
   "execution_count": null,
   "id": "39a8d24c",
   "metadata": {},
   "outputs": [],
   "source": [
    "print(parsed_trans)"
   ]
  },
  {
   "cell_type": "code",
   "execution_count": null,
   "id": "4090729f",
   "metadata": {},
   "outputs": [],
   "source": []
  }
 ],
 "metadata": {
  "kernelspec": {
   "display_name": "Python 3 (ipykernel)",
   "language": "python",
   "name": "python3"
  },
  "language_info": {
   "codemirror_mode": {
    "name": "ipython",
    "version": 3
   },
   "file_extension": ".py",
   "mimetype": "text/x-python",
   "name": "python",
   "nbconvert_exporter": "python",
   "pygments_lexer": "ipython3",
   "version": "3.9.12"
  }
 },
 "nbformat": 4,
 "nbformat_minor": 5
}
