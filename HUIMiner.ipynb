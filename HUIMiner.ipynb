{
 "cells": [
  {
   "cell_type": "code",
   "execution_count": 92,
   "id": "dd8e4ace-644c-49fb-96d0-ed0bcb8831a3",
   "metadata": {},
   "outputs": [],
   "source": [
    "from collections import defaultdict\n",
    "\n",
    "transactions = []\n",
    "min_util = 50\n",
    "utility_lists = {}\n",
    "parsed_trans = []\n",
    "TWU = defaultdict(int)\n",
    "revised_trans = []\n",
    "with open('test.txt', 'r') as file:\n",
    "    for line in file:\n",
    "        transactions.append(line.strip())"
   ]
  },
  {
   "cell_type": "code",
   "execution_count": 94,
   "id": "fea3dbed-e445-4b79-b6fe-6497f0da7f12",
   "metadata": {},
   "outputs": [],
   "source": [
    "def parse(line, tid):\n",
    "    items, total_util, item_utils = line.split(':')\n",
    "    items = list(map(int, items.strip().split()))\n",
    "    total_util = float(total_util.strip())\n",
    "    item_utils = list(map(float, item_utils.strip().split()))\n",
    "    parsed_trans.append((tid, items, item_utils, total_util))\n",
    "    for item in items:\n",
    "        TWU[item] += total_util\n"
   ]
  },
  {
   "cell_type": "code",
   "execution_count": 96,
   "id": "b00029dc-b213-4d7f-80c7-fd3ea3de305d",
   "metadata": {},
   "outputs": [],
   "source": [
    "def revise():\n",
    "    kept = {item for item in TWU if TWU[item] >= min_util}\n",
    "    sorted_items = sorted(kept, key=lambda i: (TWU[i], i))\n",
    "    ordering = {item: idx for idx, item in enumerate(sorted_items)}\n",
    "\n",
    "    for tid, items, utils, tu in parsed_trans:\n",
    "        revised = [(item, util) for item, util in zip(items, utils) if item in kept]\n",
    "        revised.sort(key=lambda x: ordering[x[0]])\n",
    "        if revised:\n",
    "            revised_trans.append((tid, revised))"
   ]
  },
  {
   "cell_type": "code",
   "execution_count": 98,
   "id": "9e2a5b4f-af82-4618-bf18-c2945c2e8b44",
   "metadata": {},
   "outputs": [],
   "source": [
    "class UtilityListEntry:\n",
    "    def __init__(self, tid, iu, ru):\n",
    "        self.tid = tid\n",
    "        self.iu = iu\n",
    "        self.ru = ru"
   ]
  },
  {
   "cell_type": "code",
   "execution_count": 100,
   "id": "ddb4ec4c-f9f4-402a-95ef-d861872863c1",
   "metadata": {},
   "outputs": [],
   "source": [
    "def build_item_UL():\n",
    "    for tid, revised in revised_trans:\n",
    "        items = [item for item,_ in revised]\n",
    "        utils = [util for _,util in revised]\n",
    "        for i in range(len(items)):\n",
    "            item = items[i]\n",
    "            iu = utils[i]\n",
    "            ru = sum(utils[i+1:])\n",
    "            if item not in utility_lists:\n",
    "                utility_lists[item] = []\n",
    "            utility_lists[item].append(UtilityListEntry(tid, iu, ru))"
   ]
  },
  {
   "cell_type": "code",
   "execution_count": 102,
   "id": "f717feb5-9a4a-42aa-b4bd-3ebd4d7eeb3a",
   "metadata": {},
   "outputs": [],
   "source": [
    "def construct(prefix, x, y):\n",
    "    newUL = []\n",
    "    mapY = {e.tid: e for e in y}\n",
    "    mapP = {e.tid: e for e in prefix} if prefix else {}\n",
    "\n",
    "    for Xentry in x:\n",
    "        Yentry = mapY.get(Xentry.tid)\n",
    "        if Yentry:\n",
    "            if prefix:\n",
    "                Pentry = mapP[Xentry.tid]\n",
    "                iu = Xentry.iu + Yentry.iu - Pentry.iu\n",
    "            else:\n",
    "                iu = Xentry.iu + Yentry.iu\n",
    "            ru = Yentry.ru\n",
    "            newUL.append(UtilityListEntry(tid, iu, ru))\n",
    "\n",
    "    return newUL\n",
    "    "
   ]
  },
  {
   "cell_type": "code",
   "execution_count": 104,
   "id": "02f2cfed-5a2f-4f14-ace8-94ade9257d61",
   "metadata": {},
   "outputs": [],
   "source": [
    "def huiMiner(prefix, ULs):\n",
    "    for i in range(len(ULs)):\n",
    "        Xi, xUL = ULs[i]\n",
    "        newPrefix = prefix + (Xi,)\n",
    "        sumIU = sum(e.iu for e in xUL)\n",
    "        sumTOT = sum(e.ru + e.iu for e in xUL)\n",
    "\n",
    "        if sumIU >= min_util:\n",
    "            print(f\"High Utility Itemset: {newPrefix}, Utility: {sumIU}\")\n",
    "\n",
    "        if sumTOT >= min_util:\n",
    "            extendedULs = []\n",
    "            for j in range(i+1, len(ULs)):\n",
    "                Yj, yUL = ULs[j]\n",
    "                newUL = construct(xUL if not prefix else utility_lists[prefix], xUL, yUL)\n",
    "                if newUL:\n",
    "                    extendedULs.append((Yj, newUL))\n",
    "            huiMiner(newPrefix, extendedULs)\n",
    "            \n",
    "    "
   ]
  },
  {
   "cell_type": "code",
   "execution_count": 108,
   "id": "64a858ee-2cbd-48de-99b5-15b0993902ca",
   "metadata": {},
   "outputs": [
    {
     "ename": "IndexError",
     "evalue": "list index out of range",
     "output_type": "error",
     "traceback": [
      "\u001b[0;31m---------------------------------------------------------------------------\u001b[0m",
      "\u001b[0;31mIndexError\u001b[0m                                Traceback (most recent call last)",
      "\u001b[0;32m/var/folders/ts/s31pjj7131j0b6y6v4mv28fc0000gn/T/ipykernel_38172/3574787340.py\u001b[0m in \u001b[0;36m<module>\u001b[0;34m\u001b[0m\n\u001b[1;32m      4\u001b[0m \u001b[0mrevise\u001b[0m\u001b[0;34m(\u001b[0m\u001b[0;34m)\u001b[0m\u001b[0;34m\u001b[0m\u001b[0;34m\u001b[0m\u001b[0m\n\u001b[1;32m      5\u001b[0m \u001b[0mbuild_item_UL\u001b[0m\u001b[0;34m(\u001b[0m\u001b[0;34m)\u001b[0m\u001b[0;34m\u001b[0m\u001b[0;34m\u001b[0m\u001b[0m\n\u001b[0;32m----> 6\u001b[0;31m \u001b[0mULs\u001b[0m \u001b[0;34m=\u001b[0m \u001b[0msorted\u001b[0m\u001b[0;34m(\u001b[0m\u001b[0;34m[\u001b[0m\u001b[0;34m(\u001b[0m\u001b[0mitem\u001b[0m\u001b[0;34m,\u001b[0m \u001b[0mutility_lists\u001b[0m\u001b[0;34m[\u001b[0m\u001b[0mitem\u001b[0m\u001b[0;34m]\u001b[0m\u001b[0;34m)\u001b[0m \u001b[0;32mfor\u001b[0m \u001b[0mitem\u001b[0m \u001b[0;32min\u001b[0m \u001b[0mutility_lists\u001b[0m\u001b[0;34m]\u001b[0m\u001b[0;34m,\u001b[0m \u001b[0mkey\u001b[0m\u001b[0;34m=\u001b[0m\u001b[0;32mlambda\u001b[0m \u001b[0mx\u001b[0m\u001b[0;34m:\u001b[0m \u001b[0mrevised_trans\u001b[0m\u001b[0;34m[\u001b[0m\u001b[0mx\u001b[0m\u001b[0;34m[\u001b[0m\u001b[0;36m0\u001b[0m\u001b[0;34m]\u001b[0m\u001b[0;34m]\u001b[0m\u001b[0;34m)\u001b[0m\u001b[0;34m\u001b[0m\u001b[0;34m\u001b[0m\u001b[0m\n\u001b[0m\u001b[1;32m      7\u001b[0m \u001b[0mHUIMiner\u001b[0m\u001b[0;34m(\u001b[0m\u001b[0mtuple\u001b[0m\u001b[0;34m(\u001b[0m\u001b[0;34m)\u001b[0m\u001b[0;34m,\u001b[0m \u001b[0mULs\u001b[0m\u001b[0;34m)\u001b[0m\u001b[0;34m\u001b[0m\u001b[0;34m\u001b[0m\u001b[0m\n",
      "\u001b[0;32m/var/folders/ts/s31pjj7131j0b6y6v4mv28fc0000gn/T/ipykernel_38172/3574787340.py\u001b[0m in \u001b[0;36m<lambda>\u001b[0;34m(x)\u001b[0m\n\u001b[1;32m      4\u001b[0m \u001b[0mrevise\u001b[0m\u001b[0;34m(\u001b[0m\u001b[0;34m)\u001b[0m\u001b[0;34m\u001b[0m\u001b[0;34m\u001b[0m\u001b[0m\n\u001b[1;32m      5\u001b[0m \u001b[0mbuild_item_UL\u001b[0m\u001b[0;34m(\u001b[0m\u001b[0;34m)\u001b[0m\u001b[0;34m\u001b[0m\u001b[0;34m\u001b[0m\u001b[0m\n\u001b[0;32m----> 6\u001b[0;31m \u001b[0mULs\u001b[0m \u001b[0;34m=\u001b[0m \u001b[0msorted\u001b[0m\u001b[0;34m(\u001b[0m\u001b[0;34m[\u001b[0m\u001b[0;34m(\u001b[0m\u001b[0mitem\u001b[0m\u001b[0;34m,\u001b[0m \u001b[0mutility_lists\u001b[0m\u001b[0;34m[\u001b[0m\u001b[0mitem\u001b[0m\u001b[0;34m]\u001b[0m\u001b[0;34m)\u001b[0m \u001b[0;32mfor\u001b[0m \u001b[0mitem\u001b[0m \u001b[0;32min\u001b[0m \u001b[0mutility_lists\u001b[0m\u001b[0;34m]\u001b[0m\u001b[0;34m,\u001b[0m \u001b[0mkey\u001b[0m\u001b[0;34m=\u001b[0m\u001b[0;32mlambda\u001b[0m \u001b[0mx\u001b[0m\u001b[0;34m:\u001b[0m \u001b[0mrevised_trans\u001b[0m\u001b[0;34m[\u001b[0m\u001b[0mx\u001b[0m\u001b[0;34m[\u001b[0m\u001b[0;36m0\u001b[0m\u001b[0;34m]\u001b[0m\u001b[0;34m]\u001b[0m\u001b[0;34m)\u001b[0m\u001b[0;34m\u001b[0m\u001b[0;34m\u001b[0m\u001b[0m\n\u001b[0m\u001b[1;32m      7\u001b[0m \u001b[0mHUIMiner\u001b[0m\u001b[0;34m(\u001b[0m\u001b[0mtuple\u001b[0m\u001b[0;34m(\u001b[0m\u001b[0;34m)\u001b[0m\u001b[0;34m,\u001b[0m \u001b[0mULs\u001b[0m\u001b[0;34m)\u001b[0m\u001b[0;34m\u001b[0m\u001b[0;34m\u001b[0m\u001b[0m\n",
      "\u001b[0;31mIndexError\u001b[0m: list index out of range"
     ]
    }
   ],
   "source": [
    "for tid, line in enumerate(transactions):\n",
    "    parse(line, tid)\n",
    "\n",
    "revise()\n",
    "build_item_UL()\n",
    "ULs = sorted([(item, utility_lists[item]) for item in utility_lists], key=lambda x: revised_trans[x[0]])\n",
    "HUIMiner(tuple(), ULs)"
   ]
  },
  {
   "cell_type": "code",
   "execution_count": null,
   "id": "df7f18c4-1f34-4cfa-ae02-7b259bbadcae",
   "metadata": {},
   "outputs": [],
   "source": []
  }
 ],
 "metadata": {
  "kernelspec": {
   "display_name": "Python [conda env:base] *",
   "language": "python",
   "name": "conda-base-py"
  },
  "language_info": {
   "codemirror_mode": {
    "name": "ipython",
    "version": 3
   },
   "file_extension": ".py",
   "mimetype": "text/x-python",
   "name": "python",
   "nbconvert_exporter": "python",
   "pygments_lexer": "ipython3",
   "version": "3.9.19"
  }
 },
 "nbformat": 4,
 "nbformat_minor": 5
}
