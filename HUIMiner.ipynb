{
 "cells": [
  {
   "cell_type": "code",
   "execution_count": 183,
   "id": "dd8e4ace-644c-49fb-96d0-ed0bcb8831a3",
   "metadata": {},
   "outputs": [],
   "source": [
    "from collections import defaultdict\n",
    "\n",
    "transactions = []\n",
    "min_util = 1000000\n",
    "utility_lists = {}\n",
    "parsed_trans = []\n",
    "TWU = defaultdict(int)\n",
    "revised_trans = []\n",
    "with open('Chicago_Crimes_2001_to_2017_utility.txt', 'r') as file:\n",
    "    for line in file:\n",
    "        transactions.append(line.strip())"
   ]
  },
  {
   "cell_type": "code",
   "execution_count": 185,
   "id": "fea3dbed-e445-4b79-b6fe-6497f0da7f12",
   "metadata": {},
   "outputs": [],
   "source": [
    "def parse(line, tid):\n",
    "    items, total_util, item_utils = line.split(':')\n",
    "    items = list(map(int, items.strip().split()))\n",
    "    total_util = float(total_util.strip())\n",
    "    item_utils = list(map(float, item_utils.strip().split()))\n",
    "    parsed_trans.append((tid, items, item_utils, total_util))\n",
    "    for item in items:\n",
    "        TWU[item] += total_util\n"
   ]
  },
  {
   "cell_type": "code",
   "execution_count": 187,
   "id": "b00029dc-b213-4d7f-80c7-fd3ea3de305d",
   "metadata": {},
   "outputs": [],
   "source": [
    "def revise():\n",
    "    kept = {item for item in TWU if TWU[item] >= min_util}\n",
    "    sorted_items = sorted(kept, key=lambda i: (TWU[i], i))\n",
    "    ordering = {item: idx for idx, item in enumerate(sorted_items)}\n",
    "\n",
    "    for tid, items, utils, tu in parsed_trans:\n",
    "        revised = [(item, util) for item, util in zip(items, utils) if item in kept]\n",
    "        revised.sort(key=lambda x: ordering[x[0]])\n",
    "        if revised:\n",
    "            revised_trans.append((tid, revised))"
   ]
  },
  {
   "cell_type": "code",
   "execution_count": 189,
   "id": "9e2a5b4f-af82-4618-bf18-c2945c2e8b44",
   "metadata": {},
   "outputs": [],
   "source": [
    "class UtilityListEntry:\n",
    "    def __init__(self, tid, iu, ru):\n",
    "        self.tid = tid\n",
    "        self.iu = iu\n",
    "        self.ru = ru"
   ]
  },
  {
   "cell_type": "code",
   "execution_count": 191,
   "id": "ddb4ec4c-f9f4-402a-95ef-d861872863c1",
   "metadata": {},
   "outputs": [],
   "source": [
    "def build_item_UL():\n",
    "    for tid, revised in revised_trans:\n",
    "        items = [item for item,_ in revised]\n",
    "        utils = [util for _,util in revised]\n",
    "        for i in range(len(items)):\n",
    "            item = items[i]\n",
    "            iu = utils[i]\n",
    "            ru = sum(utils[i+1:])\n",
    "            if item not in utility_lists:\n",
    "                utility_lists[item] = []\n",
    "            utility_lists[item].append(UtilityListEntry(tid, iu, ru))"
   ]
  },
  {
   "cell_type": "code",
   "execution_count": 193,
   "id": "f717feb5-9a4a-42aa-b4bd-3ebd4d7eeb3a",
   "metadata": {},
   "outputs": [],
   "source": [
    "def construct(prefix, x, y):\n",
    "    newUL = []\n",
    "    mapY = {e.tid: e for e in y}\n",
    "    mapP = {e.tid: e for e in prefix} if prefix else {}\n",
    "\n",
    "    for Xentry in x:\n",
    "        Yentry = mapY.get(Xentry.tid)\n",
    "        if Yentry:\n",
    "            if prefix:\n",
    "                Pentry = mapP[Xentry.tid]\n",
    "                iu = Xentry.iu + Yentry.iu - Pentry.iu\n",
    "            else:\n",
    "                iu = Xentry.iu + Yentry.iu\n",
    "            ru = Yentry.ru\n",
    "            newUL.append(UtilityListEntry(Xentry.tid, iu, ru))\n",
    "\n",
    "    return newUL\n",
    "    "
   ]
  },
  {
   "cell_type": "code",
   "execution_count": 195,
   "id": "02f2cfed-5a2f-4f14-ace8-94ade9257d61",
   "metadata": {},
   "outputs": [],
   "source": [
    "def huiMiner(prefix, ULs):\n",
    "    for i in range(len(ULs)):\n",
    "        Xi, xUL = ULs[i]\n",
    "        newPrefix = prefix + (Xi,)\n",
    "        sumIU = sum(e.iu for e in xUL)\n",
    "        sumTOT = sum(e.ru + e.iu for e in xUL)\n",
    "\n",
    "        if sumIU >= min_util:\n",
    "            print(f\"High Utility Itemset: {newPrefix}, Utility: {sumIU}\")\n",
    "\n",
    "        if sumTOT >= min_util:\n",
    "            extendedULs = []\n",
    "            for j in range(i+1, len(ULs)):\n",
    "                Yj, yUL = ULs[j]\n",
    "                newUL = construct(xUL, xUL, yUL)\n",
    "                if newUL:\n",
    "                    extendedULs.append((Yj, newUL))\n",
    "            huiMiner(newPrefix, extendedULs)\n",
    "            \n",
    "    "
   ]
  },
  {
   "cell_type": "code",
   "execution_count": 197,
   "id": "e2e1cd14-9e26-46c6-a738-10c962840aa9",
   "metadata": {},
   "outputs": [],
   "source": [
    "def run():\n",
    "    for tid, line in enumerate(transactions):\n",
    "        parse(line, tid)\n",
    "    revise()\n",
    "    build_item_UL()\n",
    "    ULs = sorted(utility_lists.items(), key=lambda x: TWU[x[0]])\n",
    "    huiMiner(tuple(), ULs)"
   ]
  },
  {
   "cell_type": "code",
   "execution_count": 199,
   "id": "df7f18c4-1f34-4cfa-ae02-7b259bbadcae",
   "metadata": {},
   "outputs": [
    {
     "name": "stdout",
     "output_type": "stream",
     "text": [
      "running HUIMiner at min util of: \n",
      "1000000\n",
      "High Utility Itemset: (1,), Utility: 1640506.0\n",
      "High Utility Itemset: (8,), Utility: 1442717.0\n",
      "Time to run\n",
      "103.83925986289978\n"
     ]
    }
   ],
   "source": [
    "import time\n",
    "import os\n",
    "import matplotlib.pyplot as plt\n",
    "\n",
    "\n",
    "print(\"running HUIMiner at min util of: \")\n",
    "print(min_util)\n",
    "\n",
    "start = time.time()\n",
    "run()\n",
    "end = time.time()\n",
    "elapsed = end - start\n",
    "\n",
    "print(\"Time to run\")\n",
    "print(elapsed)\n",
    "    "
   ]
  },
  {
   "cell_type": "code",
   "execution_count": null,
   "id": "725478eb-4be1-453a-b7e0-b3062166f269",
   "metadata": {},
   "outputs": [],
   "source": []
  }
 ],
 "metadata": {
  "kernelspec": {
   "display_name": "Python [conda env:base] *",
   "language": "python",
   "name": "conda-base-py"
  },
  "language_info": {
   "codemirror_mode": {
    "name": "ipython",
    "version": 3
   },
   "file_extension": ".py",
   "mimetype": "text/x-python",
   "name": "python",
   "nbconvert_exporter": "python",
   "pygments_lexer": "ipython3",
   "version": "3.9.19"
  }
 },
 "nbformat": 4,
 "nbformat_minor": 5
}
